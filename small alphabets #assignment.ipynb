{
 "cells": [
  {
   "cell_type": "code",
   "execution_count": 2,
   "id": "b65dc28d",
   "metadata": {},
   "outputs": [
    {
     "name": "stdout",
     "output_type": "stream",
     "text": [
      "****** \n",
      "      *\n",
      " ******\n",
      "*     *\n",
      " ***** *\n"
     ]
    }
   ],
   "source": [
    "a=1\n",
    "for a in range(6):\n",
    "    if a==1:\n",
    "        print(\"****** \")\n",
    "    elif a==2:\n",
    "        print(\"      *\")\n",
    "    elif a==3:\n",
    "        print(\" ******\")\n",
    "    elif a==4:\n",
    "        print(\"*     *\")\n",
    "    elif a==5:\n",
    "        print(\" ***** *\")"
   ]
  },
  {
   "cell_type": "code",
   "execution_count": 3,
   "id": "68ee38f8",
   "metadata": {},
   "outputs": [
    {
     "name": "stdout",
     "output_type": "stream",
     "text": [
      "*     \n",
      "*     \n",
      "***** \n",
      "*    *\n",
      "*****\n"
     ]
    }
   ],
   "source": [
    "a=1\n",
    "for a in range(6):\n",
    "    if a==1:\n",
    "        print(\"*     \")\n",
    "    elif a==2:\n",
    "        print(\"*     \")\n",
    "    elif a==3:\n",
    "        print(\"***** \")\n",
    "    elif a==4:\n",
    "        print(\"*    *\")\n",
    "    elif a==5:\n",
    "        print(\"*****\")"
   ]
  },
  {
   "cell_type": "code",
   "execution_count": 4,
   "id": "408ced10",
   "metadata": {},
   "outputs": [
    {
     "name": "stdout",
     "output_type": "stream",
     "text": [
      "     \n",
      " ****\n",
      "*    \n",
      "*    \n",
      " ****\n"
     ]
    }
   ],
   "source": [
    "a=1\n",
    "for a in range(6):\n",
    "    if a==1:\n",
    "        print(\"     \")\n",
    "    elif a==2:\n",
    "        print(\" ****\")\n",
    "    elif a==3:\n",
    "        print(\"*    \")\n",
    "    elif a==4:\n",
    "        print(\"*    \")\n",
    "    elif a==5:\n",
    "        print(\" ****\")"
   ]
  },
  {
   "cell_type": "code",
   "execution_count": 5,
   "id": "769657df",
   "metadata": {},
   "outputs": [
    {
     "name": "stdout",
     "output_type": "stream",
     "text": [
      "    *\n",
      "    *\n",
      " ****\n",
      "*   *\n",
      " ****\n"
     ]
    }
   ],
   "source": [
    "a=1\n",
    "for a in range(6):\n",
    "    if a==1:\n",
    "        print(\"    *\")\n",
    "    elif a==2:\n",
    "        print(\"    *\")\n",
    "    elif a==3:\n",
    "        print(\" ****\")\n",
    "    elif a==4:\n",
    "        print(\"*   *\")\n",
    "    elif a==5:\n",
    "        print(\" ****\")"
   ]
  },
  {
   "cell_type": "code",
   "execution_count": 6,
   "id": "b187cc06",
   "metadata": {},
   "outputs": [
    {
     "name": "stdout",
     "output_type": "stream",
     "text": [
      "     \n",
      " **** \n",
      "******\n",
      "*    \n",
      " ****\n"
     ]
    }
   ],
   "source": [
    "a=1\n",
    "for a in range(6):\n",
    "    if a==1:\n",
    "        print(\"     \")\n",
    "    elif a==2:\n",
    "        print(\" **** \")\n",
    "    elif a==3:\n",
    "        print(\"******\")\n",
    "    elif a==4:\n",
    "        print(\"*    \")\n",
    "    elif a==5:\n",
    "        print(\" ****\")"
   ]
  },
  {
   "cell_type": "code",
   "execution_count": 7,
   "id": "cc37b1e1",
   "metadata": {},
   "outputs": [
    {
     "name": "stdout",
     "output_type": "stream",
     "text": [
      "   ***\n",
      "  *  \n",
      " **** \n",
      "  *  \n",
      "  *  \n"
     ]
    }
   ],
   "source": [
    "a=1\n",
    "for a in range(6):\n",
    "    if a==1:\n",
    "        print(\"   ***\")\n",
    "    elif a==2:\n",
    "        print(\"  *  \")\n",
    "    elif a==3:\n",
    "        print(\" **** \")\n",
    "    elif a==4:\n",
    "        print(\"  *  \")\n",
    "    elif a==5:\n",
    "        print(\"  *  \")"
   ]
  },
  {
   "cell_type": "code",
   "execution_count": 8,
   "id": "6b66c9cd",
   "metadata": {},
   "outputs": [
    {
     "name": "stdout",
     "output_type": "stream",
     "text": [
      " *** \n",
      "*   *\n",
      " ** *\n",
      "*   *\n",
      " *** \n"
     ]
    }
   ],
   "source": [
    "a=1\n",
    "for a in range(6):\n",
    "    if a==1:\n",
    "        print(\" *** \")\n",
    "    elif a==2:\n",
    "        print(\"*   *\")\n",
    "    elif a==3:\n",
    "        print(\" ** *\")\n",
    "    elif a==4:\n",
    "        print(\"*   *\")\n",
    "    elif a==5:\n",
    "        print(\" *** \")"
   ]
  },
  {
   "cell_type": "code",
   "execution_count": 9,
   "id": "b47d916d",
   "metadata": {},
   "outputs": [
    {
     "name": "stdout",
     "output_type": "stream",
     "text": [
      "*    \n",
      "*    \n",
      "**** \n",
      "*   *\n",
      "*   *\n"
     ]
    }
   ],
   "source": [
    "a=1\n",
    "for a in range(6):\n",
    "    if a==1:\n",
    "        print(\"*    \")\n",
    "    elif a==2:\n",
    "        print(\"*    \")\n",
    "    elif a==3:\n",
    "        print(\"**** \")\n",
    "    elif a==4:\n",
    "        print(\"*   *\")\n",
    "    elif a==5:\n",
    "        print(\"*   *\")"
   ]
  },
  {
   "cell_type": "code",
   "execution_count": 10,
   "id": "6d378554",
   "metadata": {},
   "outputs": [
    {
     "name": "stdout",
     "output_type": "stream",
     "text": [
      " *\n",
      "** \n",
      " *\n",
      " *\n",
      "  **\n"
     ]
    }
   ],
   "source": [
    "a=1\n",
    "for a in range(6):\n",
    "    if a==1:\n",
    "        print(\" *\")\n",
    "    elif a==2:\n",
    "        print(\"** \")\n",
    "    elif a==3:\n",
    "        print(\" *\")\n",
    "    elif a==4:\n",
    "        print(\" *\")\n",
    "    elif a==5:\n",
    "        print(\"  **\")"
   ]
  },
  {
   "cell_type": "code",
   "execution_count": 11,
   "id": "162f0a64",
   "metadata": {},
   "outputs": [
    {
     "name": "stdout",
     "output_type": "stream",
     "text": [
      "   * \n",
      "  **\n",
      "   *\n",
      "*  *\n",
      " ** \n"
     ]
    }
   ],
   "source": [
    "a=1\n",
    "for a in range(6):\n",
    "    if a==1:\n",
    "        print(\"   * \")\n",
    "    elif a==2:\n",
    "        print(\"  **\")\n",
    "    elif a==3:\n",
    "        print(\"   *\")\n",
    "    elif a==4:\n",
    "        print(\"*  *\")\n",
    "    elif a==5:\n",
    "        print(\" ** \")"
   ]
  },
  {
   "cell_type": "code",
   "execution_count": 12,
   "id": "e4813ef5",
   "metadata": {},
   "outputs": [
    {
     "name": "stdout",
     "output_type": "stream",
     "text": [
      "*\n",
      "*   *\n",
      "* * \n",
      "**\n",
      "*  *\n",
      "*   *\n"
     ]
    }
   ],
   "source": [
    "a=1\n",
    "for a in range(7):\n",
    "    if a==1:\n",
    "        print(\"*\")\n",
    "    elif a==2:\n",
    "        print(\"*   *\")\n",
    "    elif a==3:\n",
    "        print(\"* * \")\n",
    "    elif a==4:\n",
    "        print(\"**\")\n",
    "    elif a==5:\n",
    "        print(\"*  *\")\n",
    "    elif a==6:\n",
    "        print(\"*   *\")"
   ]
  },
  {
   "cell_type": "code",
   "execution_count": 13,
   "id": "308c2efc",
   "metadata": {},
   "outputs": [
    {
     "name": "stdout",
     "output_type": "stream",
     "text": [
      "*\n",
      "*\n",
      "*\n",
      "*\n",
      "****\n"
     ]
    }
   ],
   "source": [
    "a=1\n",
    "for a in range(6):\n",
    "    if a==1:\n",
    "        print(\"*\")\n",
    "    elif a==2:\n",
    "        print(\"*\")\n",
    "    elif a==3:\n",
    "        print(\"*\")\n",
    "    elif a==4:\n",
    "        print(\"*\")\n",
    "    elif a==5:\n",
    "        print(\"****\")"
   ]
  },
  {
   "cell_type": "code",
   "execution_count": 14,
   "id": "3f74575f",
   "metadata": {},
   "outputs": [
    {
     "name": "stdout",
     "output_type": "stream",
     "text": [
      "* *** ***\n",
      " *   *   *\n",
      " *   *   *\n",
      " *   *   *\n",
      " *   *   *\n"
     ]
    }
   ],
   "source": [
    "a=1\n",
    "for a in range(6):\n",
    "    if a==1:\n",
    "        print(\"* *** ***\")\n",
    "    elif a==2:\n",
    "        print(\" *   *   *\")\n",
    "    elif a==3:\n",
    "        print(\" *   *   *\")\n",
    "    elif a==4:\n",
    "        print(\" *   *   *\")\n",
    "    elif a==5:\n",
    "        print(\" *   *   *\")"
   ]
  },
  {
   "cell_type": "code",
   "execution_count": 15,
   "id": "e34513a2",
   "metadata": {},
   "outputs": [
    {
     "name": "stdout",
     "output_type": "stream",
     "text": [
      "\n",
      "* ***\n",
      " *   *\n",
      " *   *\n",
      " *   *\n"
     ]
    }
   ],
   "source": [
    "a=1\n",
    "for a in range(6):\n",
    "    if a==1:\n",
    "        print(\"\")\n",
    "    elif a==2:\n",
    "        print(\"* ***\")\n",
    "    elif a==3:\n",
    "        print(\" *   *\")\n",
    "    elif a==4:\n",
    "        print(\" *   *\")\n",
    "    elif a==5:\n",
    "        print(\" *   *\")"
   ]
  },
  {
   "cell_type": "code",
   "execution_count": 16,
   "id": "8887fb85",
   "metadata": {},
   "outputs": [
    {
     "name": "stdout",
     "output_type": "stream",
     "text": [
      " ***\n",
      "*   *\n",
      "*   *\n",
      " ***\n"
     ]
    }
   ],
   "source": [
    "a=1\n",
    "for a in range(5):\n",
    "    if a==1:\n",
    "        print(\" ***\")\n",
    "    elif a==2:\n",
    "        print(\"*   *\")\n",
    "    elif a==3:\n",
    "        print(\"*   *\")\n",
    "    elif a==4:\n",
    "        print(\" ***\")"
   ]
  },
  {
   "cell_type": "code",
   "execution_count": 17,
   "id": "f215a048",
   "metadata": {},
   "outputs": [
    {
     "name": "stdout",
     "output_type": "stream",
     "text": [
      "*\n",
      " ****\n",
      " *   *\n",
      " ****\n",
      " *\n",
      " *\n"
     ]
    }
   ],
   "source": [
    "a=1\n",
    "for a in range(7):\n",
    "    if a==1:\n",
    "        print(\"*\")\n",
    "    elif a==2:\n",
    "        print(\" ****\")\n",
    "    elif a==3:\n",
    "        print(\" *   *\")\n",
    "    elif a==4:\n",
    "        print(\" ****\")\n",
    "    elif a==5:\n",
    "        print(\" *\")\n",
    "    elif a==6:\n",
    "        print(\" *\")"
   ]
  },
  {
   "cell_type": "code",
   "execution_count": 21,
   "id": "6f357ca9",
   "metadata": {},
   "outputs": [
    {
     "name": "stdout",
     "output_type": "stream",
     "text": [
      "     *\n",
      " ****\n",
      "*   *\n",
      " ****\n",
      "    * *\n",
      "    *\n"
     ]
    }
   ],
   "source": [
    "a=1\n",
    "for a in range(6):\n",
    "    if a==0:\n",
    "        print(\"     *\")\n",
    "    elif a==1:\n",
    "        print(\" ****\")\n",
    "    elif a==2:\n",
    "        print(\"*   *\")\n",
    "    elif a==3:\n",
    "        print(\" ****\")\n",
    "    elif a==4:\n",
    "        print(\"    * *\")\n",
    "    elif a==5:\n",
    "        print(\"    *\")"
   ]
  },
  {
   "cell_type": "code",
   "execution_count": 22,
   "id": "abb9086e",
   "metadata": {},
   "outputs": [
    {
     "name": "stdout",
     "output_type": "stream",
     "text": [
      "* ***\n",
      " *  **\n",
      " *\n",
      " *\n"
     ]
    }
   ],
   "source": [
    "a=1\n",
    "for a in range(5):\n",
    "    if a==1:\n",
    "        print(\"* ***\")\n",
    "    elif a==2:\n",
    "        print(\" *  **\")\n",
    "    elif a==3:\n",
    "        print(\" *\")\n",
    "    elif a==4:\n",
    "        print(\" *\")"
   ]
  },
  {
   "cell_type": "code",
   "execution_count": 23,
   "id": "21ab6729",
   "metadata": {},
   "outputs": [
    {
     "name": "stdout",
     "output_type": "stream",
     "text": [
      " ****\n",
      "*\n",
      " ****\n",
      "     *\n",
      " ****\n"
     ]
    }
   ],
   "source": [
    "a=1\n",
    "for a in range(6):\n",
    "    if a==1:\n",
    "        print(\" ****\")\n",
    "    elif a==2:\n",
    "        print(\"*\")\n",
    "    elif a==3:\n",
    "        print(\" ****\")\n",
    "    elif a==4:\n",
    "        print(\"     *\")\n",
    "    elif a==5:\n",
    "        print(\" ****\")"
   ]
  },
  {
   "cell_type": "code",
   "execution_count": 24,
   "id": "5391f3da",
   "metadata": {},
   "outputs": [
    {
     "name": "stdout",
     "output_type": "stream",
     "text": [
      " *\n",
      "****\n",
      " *\n",
      " *\n",
      "  **\n"
     ]
    }
   ],
   "source": [
    "a=1\n",
    "for a in range(6):\n",
    "    if a==1:\n",
    "        print(\" *\")\n",
    "    elif a==2:\n",
    "        print(\"****\")\n",
    "    elif a==3:\n",
    "        print(\" *\")\n",
    "    elif a==4:\n",
    "        print(\" *\")\n",
    "    elif a==5:\n",
    "        print(\"  **\")"
   ]
  },
  {
   "cell_type": "code",
   "execution_count": 25,
   "id": "1c617391",
   "metadata": {},
   "outputs": [
    {
     "name": "stdout",
     "output_type": "stream",
     "text": [
      "*    *\n",
      "*    *\n",
      "*    *\n",
      " **** *\n"
     ]
    }
   ],
   "source": [
    "a=1\n",
    "for a in range(5):\n",
    "    if a==1:\n",
    "        print(\"*    *\")\n",
    "    elif a==2:\n",
    "        print(\"*    *\")\n",
    "    elif a==3:\n",
    "        print(\"*    *\")\n",
    "    elif a==4:\n",
    "        print(\" **** *\")"
   ]
  },
  {
   "cell_type": "code",
   "execution_count": 26,
   "id": "9b77d652",
   "metadata": {},
   "outputs": [
    {
     "name": "stdout",
     "output_type": "stream",
     "text": [
      "*     *\n",
      " *   *\n",
      "  * *\n",
      "   *\n"
     ]
    }
   ],
   "source": [
    "a=1\n",
    "for a in range(5):\n",
    "    if a==1:\n",
    "        print(\"*     *\")\n",
    "    elif a==2:\n",
    "        print(\" *   *\")\n",
    "    elif a==3:\n",
    "        print(\"  * *\")\n",
    "    elif a==4:\n",
    "        print(\"   *\")"
   ]
  },
  {
   "cell_type": "code",
   "execution_count": 27,
   "id": "a1db2411",
   "metadata": {},
   "outputs": [
    {
     "name": "stdout",
     "output_type": "stream",
     "text": [
      "*   *   *\n",
      "*   *   *\n",
      "*   *   *\n",
      " **   **\n"
     ]
    }
   ],
   "source": [
    "a=1\n",
    "for a in range(5):\n",
    "    if a==1:\n",
    "        print(\"*   *   *\")\n",
    "    elif a==2:\n",
    "        print(\"*   *   *\")\n",
    "    elif a==3:\n",
    "        print(\"*   *   *\")\n",
    "    elif a==4:\n",
    "        print(\" **   **\")"
   ]
  },
  {
   "cell_type": "code",
   "execution_count": 29,
   "id": "c34e871d",
   "metadata": {},
   "outputs": [
    {
     "name": "stdout",
     "output_type": "stream",
     "text": [
      "*    *\n",
      "  * *\n",
      "   *\n",
      "  * *\n",
      "*    *\n"
     ]
    }
   ],
   "source": [
    "a=1\n",
    "for a in range(6):\n",
    "    if a==1:\n",
    "        print(\"*    *\")\n",
    "    elif a==2:\n",
    "        print(\"  * *\")\n",
    "    elif a==3:\n",
    "        print(\"   *\")\n",
    "    elif a==4:\n",
    "        print(\"  * *\")\n",
    "    elif a==5:\n",
    "        print(\"*    *\")"
   ]
  },
  {
   "cell_type": "code",
   "execution_count": 30,
   "id": "979270b6",
   "metadata": {},
   "outputs": [
    {
     "name": "stdout",
     "output_type": "stream",
     "text": [
      "*   *\n",
      "*   *\n",
      " ****\n",
      "    *\n",
      "****\n"
     ]
    }
   ],
   "source": [
    "a=1\n",
    "for a in range(6):\n",
    "    if a==1:\n",
    "        print(\"*   *\")\n",
    "    elif a==2:\n",
    "        print(\"*   *\")\n",
    "    elif a==3:\n",
    "        print(\" ****\")\n",
    "    elif a==4:\n",
    "        print(\"    *\")\n",
    "    elif a==5:\n",
    "        print(\"****\")"
   ]
  },
  {
   "cell_type": "code",
   "execution_count": 31,
   "id": "350dbc9b",
   "metadata": {},
   "outputs": [
    {
     "name": "stdout",
     "output_type": "stream",
     "text": [
      "****\n",
      "  *\n",
      " *\n",
      "****\n"
     ]
    }
   ],
   "source": [
    "a=1\n",
    "for a in range(5):\n",
    "    if a==1:\n",
    "        print(\"****\")\n",
    "    elif a==2:\n",
    "        print(\"  *\")\n",
    "    elif a==3:\n",
    "        print(\" *\")\n",
    "    elif a==4:\n",
    "        print(\"****\")"
   ]
  },
  {
   "cell_type": "code",
   "execution_count": null,
   "id": "54a8df0b",
   "metadata": {},
   "outputs": [],
   "source": []
  }
 ],
 "metadata": {
  "kernelspec": {
   "display_name": "Python 3 (ipykernel)",
   "language": "python",
   "name": "python3"
  },
  "language_info": {
   "codemirror_mode": {
    "name": "ipython",
    "version": 3
   },
   "file_extension": ".py",
   "mimetype": "text/x-python",
   "name": "python",
   "nbconvert_exporter": "python",
   "pygments_lexer": "ipython3",
   "version": "3.9.13"
  }
 },
 "nbformat": 4,
 "nbformat_minor": 5
}
